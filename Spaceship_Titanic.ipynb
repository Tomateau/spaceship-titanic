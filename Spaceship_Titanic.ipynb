{
 "cells": [
  {
   "cell_type": "markdown",
   "metadata": {},
   "source": [
    "## Import"
   ]
  },
  {
   "cell_type": "code",
   "execution_count": 1,
   "metadata": {},
   "outputs": [],
   "source": [
    "import pandas as pd\n",
    "import numpy as np\n",
    "import matplotlib.pyplot as plt\n",
    "import seaborn as sns\n",
    "from sklearn import set_config; set_config(display='diagram')"
   ]
  },
  {
   "cell_type": "code",
   "execution_count": 2,
   "metadata": {},
   "outputs": [],
   "source": [
    "from sklearn.preprocessing import LabelEncoder\n",
    "from sklearn.model_selection import train_test_split\n",
    "from sklearn.preprocessing import MinMaxScaler, StandardScaler\n",
    "from sklearn.pipeline import make_pipeline\n",
    "from sklearn.impute import SimpleImputer\n",
    "from sklearn.compose import make_column_transformer, make_column_selector\n",
    "from sklearn.preprocessing import OneHotEncoder, OrdinalEncoder\n",
    "\n",
    "from sklearn.model_selection import cross_val_score\n",
    "from sklearn.model_selection import GridSearchCV, RandomizedSearchCV\n",
    "from sklearn.tree import DecisionTreeClassifier\n",
    "from sklearn.naive_bayes import GaussianNB\n",
    "from sklearn.linear_model import LogisticRegression\n",
    "from sklearn.svm import SVC\n",
    "from sklearn.neighbors import KNeighborsClassifier\n",
    "from sklearn.ensemble import RandomForestClassifier, AdaBoostClassifier, VotingClassifier, StackingClassifier\n",
    "from xgboost import XGBClassifier\n"
   ]
  },
  {
   "cell_type": "code",
   "execution_count": 3,
   "metadata": {},
   "outputs": [],
   "source": [
    "df = pd.read_csv('Data/train.csv')"
   ]
  },
  {
   "cell_type": "markdown",
   "metadata": {},
   "source": [
    "## Data Exploration"
   ]
  },
  {
   "cell_type": "code",
   "execution_count": 11,
   "metadata": {},
   "outputs": [
    {
     "data": {
      "text/html": [
       "<div>\n",
       "<style scoped>\n",
       "    .dataframe tbody tr th:only-of-type {\n",
       "        vertical-align: middle;\n",
       "    }\n",
       "\n",
       "    .dataframe tbody tr th {\n",
       "        vertical-align: top;\n",
       "    }\n",
       "\n",
       "    .dataframe thead th {\n",
       "        text-align: right;\n",
       "    }\n",
       "</style>\n",
       "<table border=\"1\" class=\"dataframe\">\n",
       "  <thead>\n",
       "    <tr style=\"text-align: right;\">\n",
       "      <th></th>\n",
       "      <th>PassengerId</th>\n",
       "      <th>HomePlanet</th>\n",
       "      <th>CryoSleep</th>\n",
       "      <th>Cabin</th>\n",
       "      <th>Destination</th>\n",
       "      <th>Age</th>\n",
       "      <th>VIP</th>\n",
       "      <th>RoomService</th>\n",
       "      <th>FoodCourt</th>\n",
       "      <th>ShoppingMall</th>\n",
       "      <th>Spa</th>\n",
       "      <th>VRDeck</th>\n",
       "      <th>Name</th>\n",
       "      <th>Transported</th>\n",
       "      <th>total_spent</th>\n",
       "      <th>total_spent_log</th>\n",
       "      <th>cabin_deck</th>\n",
       "      <th>cabin_num</th>\n",
       "      <th>cabin_side</th>\n",
       "      <th>AgeBinary</th>\n",
       "    </tr>\n",
       "  </thead>\n",
       "  <tbody>\n",
       "    <tr>\n",
       "      <th>0</th>\n",
       "      <td>0001_01</td>\n",
       "      <td>Europa</td>\n",
       "      <td>False</td>\n",
       "      <td>B/0/P</td>\n",
       "      <td>TRAPPIST-1e</td>\n",
       "      <td>39.0</td>\n",
       "      <td>False</td>\n",
       "      <td>0.0</td>\n",
       "      <td>0.0</td>\n",
       "      <td>0.0</td>\n",
       "      <td>0.0</td>\n",
       "      <td>0.0</td>\n",
       "      <td>Maham Ofracculy</td>\n",
       "      <td>False</td>\n",
       "      <td>0.0</td>\n",
       "      <td>0.000000</td>\n",
       "      <td>B</td>\n",
       "      <td>0</td>\n",
       "      <td>P</td>\n",
       "      <td>Adult</td>\n",
       "    </tr>\n",
       "    <tr>\n",
       "      <th>1</th>\n",
       "      <td>0002_01</td>\n",
       "      <td>Earth</td>\n",
       "      <td>False</td>\n",
       "      <td>F/0/S</td>\n",
       "      <td>TRAPPIST-1e</td>\n",
       "      <td>24.0</td>\n",
       "      <td>False</td>\n",
       "      <td>109.0</td>\n",
       "      <td>9.0</td>\n",
       "      <td>25.0</td>\n",
       "      <td>549.0</td>\n",
       "      <td>44.0</td>\n",
       "      <td>Juanna Vines</td>\n",
       "      <td>True</td>\n",
       "      <td>736.0</td>\n",
       "      <td>6.602588</td>\n",
       "      <td>F</td>\n",
       "      <td>0</td>\n",
       "      <td>S</td>\n",
       "      <td>Adult</td>\n",
       "    </tr>\n",
       "    <tr>\n",
       "      <th>2</th>\n",
       "      <td>0003_01</td>\n",
       "      <td>Europa</td>\n",
       "      <td>False</td>\n",
       "      <td>A/0/S</td>\n",
       "      <td>TRAPPIST-1e</td>\n",
       "      <td>58.0</td>\n",
       "      <td>True</td>\n",
       "      <td>43.0</td>\n",
       "      <td>3576.0</td>\n",
       "      <td>0.0</td>\n",
       "      <td>6715.0</td>\n",
       "      <td>49.0</td>\n",
       "      <td>Altark Susent</td>\n",
       "      <td>False</td>\n",
       "      <td>10383.0</td>\n",
       "      <td>9.248021</td>\n",
       "      <td>A</td>\n",
       "      <td>0</td>\n",
       "      <td>S</td>\n",
       "      <td>Adult</td>\n",
       "    </tr>\n",
       "    <tr>\n",
       "      <th>3</th>\n",
       "      <td>0003_02</td>\n",
       "      <td>Europa</td>\n",
       "      <td>False</td>\n",
       "      <td>A/0/S</td>\n",
       "      <td>TRAPPIST-1e</td>\n",
       "      <td>33.0</td>\n",
       "      <td>False</td>\n",
       "      <td>0.0</td>\n",
       "      <td>1283.0</td>\n",
       "      <td>371.0</td>\n",
       "      <td>3329.0</td>\n",
       "      <td>193.0</td>\n",
       "      <td>Solam Susent</td>\n",
       "      <td>False</td>\n",
       "      <td>5176.0</td>\n",
       "      <td>8.551981</td>\n",
       "      <td>A</td>\n",
       "      <td>0</td>\n",
       "      <td>S</td>\n",
       "      <td>Adult</td>\n",
       "    </tr>\n",
       "    <tr>\n",
       "      <th>4</th>\n",
       "      <td>0004_01</td>\n",
       "      <td>Earth</td>\n",
       "      <td>False</td>\n",
       "      <td>F/1/S</td>\n",
       "      <td>TRAPPIST-1e</td>\n",
       "      <td>16.0</td>\n",
       "      <td>False</td>\n",
       "      <td>303.0</td>\n",
       "      <td>70.0</td>\n",
       "      <td>151.0</td>\n",
       "      <td>565.0</td>\n",
       "      <td>2.0</td>\n",
       "      <td>Willy Santantines</td>\n",
       "      <td>True</td>\n",
       "      <td>1091.0</td>\n",
       "      <td>6.995766</td>\n",
       "      <td>F</td>\n",
       "      <td>1</td>\n",
       "      <td>S</td>\n",
       "      <td>Children</td>\n",
       "    </tr>\n",
       "  </tbody>\n",
       "</table>\n",
       "</div>"
      ],
      "text/plain": [
       "  PassengerId HomePlanet CryoSleep  Cabin  Destination   Age    VIP  \\\n",
       "0     0001_01     Europa     False  B/0/P  TRAPPIST-1e  39.0  False   \n",
       "1     0002_01      Earth     False  F/0/S  TRAPPIST-1e  24.0  False   \n",
       "2     0003_01     Europa     False  A/0/S  TRAPPIST-1e  58.0   True   \n",
       "3     0003_02     Europa     False  A/0/S  TRAPPIST-1e  33.0  False   \n",
       "4     0004_01      Earth     False  F/1/S  TRAPPIST-1e  16.0  False   \n",
       "\n",
       "   RoomService  FoodCourt  ShoppingMall     Spa  VRDeck               Name  \\\n",
       "0          0.0        0.0           0.0     0.0     0.0    Maham Ofracculy   \n",
       "1        109.0        9.0          25.0   549.0    44.0       Juanna Vines   \n",
       "2         43.0     3576.0           0.0  6715.0    49.0      Altark Susent   \n",
       "3          0.0     1283.0         371.0  3329.0   193.0       Solam Susent   \n",
       "4        303.0       70.0         151.0   565.0     2.0  Willy Santantines   \n",
       "\n",
       "   Transported  total_spent  total_spent_log cabin_deck cabin_num cabin_side  \\\n",
       "0        False          0.0         0.000000          B         0          P   \n",
       "1         True        736.0         6.602588          F         0          S   \n",
       "2        False      10383.0         9.248021          A         0          S   \n",
       "3        False       5176.0         8.551981          A         0          S   \n",
       "4         True       1091.0         6.995766          F         1          S   \n",
       "\n",
       "  AgeBinary  \n",
       "0     Adult  \n",
       "1     Adult  \n",
       "2     Adult  \n",
       "3     Adult  \n",
       "4  Children  "
      ]
     },
     "execution_count": 11,
     "metadata": {},
     "output_type": "execute_result"
    }
   ],
   "source": [
    "df.head()"
   ]
  },
  {
   "cell_type": "code",
   "execution_count": null,
   "metadata": {},
   "outputs": [],
   "source": [
    "df.describe()"
   ]
  },
  {
   "cell_type": "code",
   "execution_count": 5,
   "metadata": {},
   "outputs": [
    {
     "data": {
      "text/plain": [
       "(8693, 14)"
      ]
     },
     "execution_count": 5,
     "metadata": {},
     "output_type": "execute_result"
    }
   ],
   "source": [
    "df.shape"
   ]
  },
  {
   "cell_type": "code",
   "execution_count": 12,
   "metadata": {},
   "outputs": [
    {
     "data": {
      "text/plain": [
       "PassengerId          object\n",
       "HomePlanet           object\n",
       "CryoSleep            object\n",
       "Cabin                object\n",
       "Destination          object\n",
       "Age                 float64\n",
       "VIP                  object\n",
       "RoomService         float64\n",
       "FoodCourt           float64\n",
       "ShoppingMall        float64\n",
       "Spa                 float64\n",
       "VRDeck              float64\n",
       "Name                 object\n",
       "Transported            bool\n",
       "total_spent         float64\n",
       "total_spent_log     float64\n",
       "cabin_deck           object\n",
       "cabin_num            object\n",
       "cabin_side           object\n",
       "AgeBinary          category\n",
       "dtype: object"
      ]
     },
     "execution_count": 12,
     "metadata": {},
     "output_type": "execute_result"
    }
   ],
   "source": [
    "df.dtypes"
   ]
  },
  {
   "cell_type": "code",
   "execution_count": 7,
   "metadata": {},
   "outputs": [
    {
     "data": {
      "text/plain": [
       "PassengerId     8693\n",
       "HomePlanet         3\n",
       "CryoSleep          2\n",
       "Cabin           6560\n",
       "Destination        3\n",
       "Age               80\n",
       "VIP                2\n",
       "RoomService     1273\n",
       "FoodCourt       1507\n",
       "ShoppingMall    1115\n",
       "Spa             1327\n",
       "VRDeck          1306\n",
       "Name            8473\n",
       "Transported        2\n",
       "dtype: int64"
      ]
     },
     "execution_count": 7,
     "metadata": {},
     "output_type": "execute_result"
    }
   ],
   "source": [
    "df.nunique()"
   ]
  },
  {
   "cell_type": "code",
   "execution_count": 9,
   "metadata": {},
   "outputs": [
    {
     "data": {
      "text/plain": [
       "CryoSleep       0.024963\n",
       "ShoppingMall    0.023927\n",
       "VIP             0.023352\n",
       "HomePlanet      0.023122\n",
       "Name            0.023007\n",
       "Cabin           0.022892\n",
       "VRDeck          0.021627\n",
       "FoodCourt       0.021051\n",
       "Spa             0.021051\n",
       "Destination     0.020936\n",
       "RoomService     0.020821\n",
       "Age             0.020591\n",
       "PassengerId     0.000000\n",
       "Transported     0.000000\n",
       "dtype: float64"
      ]
     },
     "execution_count": 9,
     "metadata": {},
     "output_type": "execute_result"
    }
   ],
   "source": [
    "df.isnull().sum().sort_values(ascending=False)/len(df)"
   ]
  },
  {
   "cell_type": "code",
   "execution_count": 12,
   "metadata": {},
   "outputs": [
    {
     "data": {
      "text/plain": [
       "80"
      ]
     },
     "execution_count": 12,
     "metadata": {},
     "output_type": "execute_result"
    }
   ],
   "source": [
    "df.Age.nunique()"
   ]
  },
  {
   "cell_type": "markdown",
   "metadata": {},
   "source": [
    "## Data Preprocessing"
   ]
  },
  {
   "cell_type": "code",
   "execution_count": null,
   "metadata": {},
   "outputs": [],
   "source": [
    "# df.duplicated().sum()"
   ]
  },
  {
   "cell_type": "code",
   "execution_count": 4,
   "metadata": {},
   "outputs": [],
   "source": [
    "df[['RoomService', 'FoodCourt','ShoppingMall','Spa','VRDeck']]=\\\n",
    "df[['RoomService', 'FoodCourt','ShoppingMall','Spa','VRDeck']].fillna(0.0);\n",
    "df['total_spend'] = df['RoomService'] + df['FoodCourt'] + df['ShoppingMall'] + \\\n",
    "df['Spa'] + df['VRDeck'];\n",
    "df['total_spent_log'] = np.log1p(df['total_spend'])"
   ]
  },
  {
   "cell_type": "code",
   "execution_count": 6,
   "metadata": {},
   "outputs": [],
   "source": [
    "df['CryoSleep'] = np.float16(df['CryoSleep']*1.0);\n",
    "df.loc[(df.CryoSleep.isna()==True) & (df['total_spend'] == 0.0), ['CryoSleep']] = 1.0;\n",
    "df.loc[(df.CryoSleep.isna()==True) & (df['total_spend'] > 0.0), ['CryoSleep']] = 0.0;"
   ]
  },
  {
   "cell_type": "code",
   "execution_count": 7,
   "metadata": {},
   "outputs": [],
   "source": [
    "df[['cabin_deck', 'cabin_num', 'cabin_side']] = df.Cabin.str.split(\"/\", expand = True)"
   ]
  },
  {
   "cell_type": "code",
   "execution_count": 8,
   "metadata": {},
   "outputs": [],
   "source": [
    "df['Age'] = df['Age'].fillna(df.Age.median())\n",
    "df['AgeCategory'] = pd.cut(x = df['Age'],\n",
    "                             bins= [df['Age'].min()-1,\n",
    "                                    5,\n",
    "                                    18,\n",
    "                                    65,\n",
    "                                    df['Age'].max()+1],\n",
    "                             labels=['Baby','Children','Adult','Senior'])"
   ]
  },
  {
   "cell_type": "code",
   "execution_count": 9,
   "metadata": {},
   "outputs": [],
   "source": [
    "# df[['passenger_group', 'passenger_number']] = df.PassengerId.str.split(\"_\", expand = True)"
   ]
  },
  {
   "cell_type": "code",
   "execution_count": 9,
   "metadata": {},
   "outputs": [
    {
     "data": {
      "text/plain": [
       "(8693, 13)"
      ]
     },
     "execution_count": 9,
     "metadata": {},
     "output_type": "execute_result"
    }
   ],
   "source": [
    "X = df.drop(columns=['PassengerId', 'Transported', 'Name', 'Cabin', 'cabin_num', 'total_spend', 'Age'])\n",
    "y = df.Transported\n",
    "X.shape"
   ]
  },
  {
   "cell_type": "code",
   "execution_count": 10,
   "metadata": {},
   "outputs": [
    {
     "data": {
      "text/plain": [
       "VIP                0.023352\n",
       "HomePlanet         0.023122\n",
       "cabin_deck         0.022892\n",
       "cabin_side         0.022892\n",
       "Destination        0.020936\n",
       "CryoSleep          0.000000\n",
       "RoomService        0.000000\n",
       "FoodCourt          0.000000\n",
       "ShoppingMall       0.000000\n",
       "Spa                0.000000\n",
       "VRDeck             0.000000\n",
       "total_spent_log    0.000000\n",
       "AgeCategory        0.000000\n",
       "dtype: float64"
      ]
     },
     "execution_count": 10,
     "metadata": {},
     "output_type": "execute_result"
    }
   ],
   "source": [
    "X.isnull().sum().sort_values(ascending=False)/len(df)"
   ]
  },
  {
   "cell_type": "code",
   "execution_count": null,
   "metadata": {},
   "outputs": [],
   "source": [
    "X.head()"
   ]
  },
  {
   "cell_type": "code",
   "execution_count": null,
   "metadata": {},
   "outputs": [],
   "source": [
    "X.dtypes"
   ]
  },
  {
   "cell_type": "code",
   "execution_count": null,
   "metadata": {},
   "outputs": [],
   "source": [
    "X.select_dtypes(include='object').nunique()"
   ]
  },
  {
   "cell_type": "code",
   "execution_count": null,
   "metadata": {},
   "outputs": [],
   "source": [
    "X.select_dtypes(include=\"float64\")"
   ]
  },
  {
   "cell_type": "code",
   "execution_count": 11,
   "metadata": {},
   "outputs": [],
   "source": [
    "feat_categorical = X.select_dtypes(include=['object', 'category']).columns"
   ]
  },
  {
   "cell_type": "code",
   "execution_count": 12,
   "metadata": {},
   "outputs": [],
   "source": [
    "feat_numerical = X.select_dtypes(include=\"float64\").columns"
   ]
  },
  {
   "cell_type": "code",
   "execution_count": 13,
   "metadata": {},
   "outputs": [],
   "source": [
    "label_encoder = LabelEncoder()\n",
    "\n",
    "y_encoded = label_encoder.fit_transform(y)"
   ]
  },
  {
   "attachments": {},
   "cell_type": "markdown",
   "metadata": {},
   "source": [
    "## Feature Correlation"
   ]
  },
  {
   "attachments": {},
   "cell_type": "markdown",
   "metadata": {},
   "source": [
    "## Baseline Pipe"
   ]
  },
  {
   "cell_type": "code",
   "execution_count": 11,
   "metadata": {},
   "outputs": [
    {
     "data": {
      "text/html": [
       "<style>#sk-35f9e27f-c521-4ba8-8fc3-ba35a3f962b5 {color: black;background-color: white;}#sk-35f9e27f-c521-4ba8-8fc3-ba35a3f962b5 pre{padding: 0;}#sk-35f9e27f-c521-4ba8-8fc3-ba35a3f962b5 div.sk-toggleable {background-color: white;}#sk-35f9e27f-c521-4ba8-8fc3-ba35a3f962b5 label.sk-toggleable__label {cursor: pointer;display: block;width: 100%;margin-bottom: 0;padding: 0.3em;box-sizing: border-box;text-align: center;}#sk-35f9e27f-c521-4ba8-8fc3-ba35a3f962b5 label.sk-toggleable__label-arrow:before {content: \"▸\";float: left;margin-right: 0.25em;color: #696969;}#sk-35f9e27f-c521-4ba8-8fc3-ba35a3f962b5 label.sk-toggleable__label-arrow:hover:before {color: black;}#sk-35f9e27f-c521-4ba8-8fc3-ba35a3f962b5 div.sk-estimator:hover label.sk-toggleable__label-arrow:before {color: black;}#sk-35f9e27f-c521-4ba8-8fc3-ba35a3f962b5 div.sk-toggleable__content {max-height: 0;max-width: 0;overflow: hidden;text-align: left;background-color: #f0f8ff;}#sk-35f9e27f-c521-4ba8-8fc3-ba35a3f962b5 div.sk-toggleable__content pre {margin: 0.2em;color: black;border-radius: 0.25em;background-color: #f0f8ff;}#sk-35f9e27f-c521-4ba8-8fc3-ba35a3f962b5 input.sk-toggleable__control:checked~div.sk-toggleable__content {max-height: 200px;max-width: 100%;overflow: auto;}#sk-35f9e27f-c521-4ba8-8fc3-ba35a3f962b5 input.sk-toggleable__control:checked~label.sk-toggleable__label-arrow:before {content: \"▾\";}#sk-35f9e27f-c521-4ba8-8fc3-ba35a3f962b5 div.sk-estimator input.sk-toggleable__control:checked~label.sk-toggleable__label {background-color: #d4ebff;}#sk-35f9e27f-c521-4ba8-8fc3-ba35a3f962b5 div.sk-label input.sk-toggleable__control:checked~label.sk-toggleable__label {background-color: #d4ebff;}#sk-35f9e27f-c521-4ba8-8fc3-ba35a3f962b5 input.sk-hidden--visually {border: 0;clip: rect(1px 1px 1px 1px);clip: rect(1px, 1px, 1px, 1px);height: 1px;margin: -1px;overflow: hidden;padding: 0;position: absolute;width: 1px;}#sk-35f9e27f-c521-4ba8-8fc3-ba35a3f962b5 div.sk-estimator {font-family: monospace;background-color: #f0f8ff;border: 1px dotted black;border-radius: 0.25em;box-sizing: border-box;margin-bottom: 0.5em;}#sk-35f9e27f-c521-4ba8-8fc3-ba35a3f962b5 div.sk-estimator:hover {background-color: #d4ebff;}#sk-35f9e27f-c521-4ba8-8fc3-ba35a3f962b5 div.sk-parallel-item::after {content: \"\";width: 100%;border-bottom: 1px solid gray;flex-grow: 1;}#sk-35f9e27f-c521-4ba8-8fc3-ba35a3f962b5 div.sk-label:hover label.sk-toggleable__label {background-color: #d4ebff;}#sk-35f9e27f-c521-4ba8-8fc3-ba35a3f962b5 div.sk-serial::before {content: \"\";position: absolute;border-left: 1px solid gray;box-sizing: border-box;top: 2em;bottom: 0;left: 50%;}#sk-35f9e27f-c521-4ba8-8fc3-ba35a3f962b5 div.sk-serial {display: flex;flex-direction: column;align-items: center;background-color: white;padding-right: 0.2em;padding-left: 0.2em;}#sk-35f9e27f-c521-4ba8-8fc3-ba35a3f962b5 div.sk-item {z-index: 1;}#sk-35f9e27f-c521-4ba8-8fc3-ba35a3f962b5 div.sk-parallel {display: flex;align-items: stretch;justify-content: center;background-color: white;}#sk-35f9e27f-c521-4ba8-8fc3-ba35a3f962b5 div.sk-parallel::before {content: \"\";position: absolute;border-left: 1px solid gray;box-sizing: border-box;top: 2em;bottom: 0;left: 50%;}#sk-35f9e27f-c521-4ba8-8fc3-ba35a3f962b5 div.sk-parallel-item {display: flex;flex-direction: column;position: relative;background-color: white;}#sk-35f9e27f-c521-4ba8-8fc3-ba35a3f962b5 div.sk-parallel-item:first-child::after {align-self: flex-end;width: 50%;}#sk-35f9e27f-c521-4ba8-8fc3-ba35a3f962b5 div.sk-parallel-item:last-child::after {align-self: flex-start;width: 50%;}#sk-35f9e27f-c521-4ba8-8fc3-ba35a3f962b5 div.sk-parallel-item:only-child::after {width: 0;}#sk-35f9e27f-c521-4ba8-8fc3-ba35a3f962b5 div.sk-dashed-wrapped {border: 1px dashed gray;margin: 0 0.4em 0.5em 0.4em;box-sizing: border-box;padding-bottom: 0.4em;background-color: white;position: relative;}#sk-35f9e27f-c521-4ba8-8fc3-ba35a3f962b5 div.sk-label label {font-family: monospace;font-weight: bold;background-color: white;display: inline-block;line-height: 1.2em;}#sk-35f9e27f-c521-4ba8-8fc3-ba35a3f962b5 div.sk-label-container {position: relative;z-index: 2;text-align: center;}#sk-35f9e27f-c521-4ba8-8fc3-ba35a3f962b5 div.sk-container {/* jupyter's `normalize.less` sets `[hidden] { display: none; }` but bootstrap.min.css set `[hidden] { display: none !important; }` so we also need the `!important` here to be able to override the default hidden behavior on the sphinx rendered scikit-learn.org. See: https://github.com/scikit-learn/scikit-learn/issues/21755 */display: inline-block !important;position: relative;}#sk-35f9e27f-c521-4ba8-8fc3-ba35a3f962b5 div.sk-text-repr-fallback {display: none;}</style><div id=\"sk-35f9e27f-c521-4ba8-8fc3-ba35a3f962b5\" class=\"sk-top-container\"><div class=\"sk-text-repr-fallback\"><pre>ColumnTransformer(transformers=[(&#x27;pipeline-1&#x27;,\n",
       "                                 Pipeline(steps=[(&#x27;simpleimputer&#x27;,\n",
       "                                                  SimpleImputer()),\n",
       "                                                 (&#x27;minmaxscaler&#x27;,\n",
       "                                                  MinMaxScaler())]),\n",
       "                                 Index([&#x27;total_spent&#x27;], dtype=&#x27;object&#x27;)),\n",
       "                                (&#x27;pipeline-2&#x27;,\n",
       "                                 Pipeline(steps=[(&#x27;onehotencoder&#x27;,\n",
       "                                                  OneHotEncoder(handle_unknown=&#x27;ignore&#x27;))]),\n",
       "                                 Index([&#x27;HomePlanet&#x27;, &#x27;CryoSleep&#x27;, &#x27;Destination&#x27;, &#x27;VIP&#x27;, &#x27;cabin_deck&#x27;,\n",
       "       &#x27;cabin_side&#x27;, &#x27;AgeBinary&#x27;],\n",
       "      dtype=&#x27;object&#x27;))])</pre><b>Please rerun this cell to show the HTML repr or trust the notebook.</b></div><div class=\"sk-container\" hidden><div class=\"sk-item sk-dashed-wrapped\"><div class=\"sk-label-container\"><div class=\"sk-label sk-toggleable\"><input class=\"sk-toggleable__control sk-hidden--visually\" id=\"7bdeb845-d2ec-4fd0-929a-9be8064b0169\" type=\"checkbox\" ><label for=\"7bdeb845-d2ec-4fd0-929a-9be8064b0169\" class=\"sk-toggleable__label sk-toggleable__label-arrow\">ColumnTransformer</label><div class=\"sk-toggleable__content\"><pre>ColumnTransformer(transformers=[(&#x27;pipeline-1&#x27;,\n",
       "                                 Pipeline(steps=[(&#x27;simpleimputer&#x27;,\n",
       "                                                  SimpleImputer()),\n",
       "                                                 (&#x27;minmaxscaler&#x27;,\n",
       "                                                  MinMaxScaler())]),\n",
       "                                 Index([&#x27;total_spent&#x27;], dtype=&#x27;object&#x27;)),\n",
       "                                (&#x27;pipeline-2&#x27;,\n",
       "                                 Pipeline(steps=[(&#x27;onehotencoder&#x27;,\n",
       "                                                  OneHotEncoder(handle_unknown=&#x27;ignore&#x27;))]),\n",
       "                                 Index([&#x27;HomePlanet&#x27;, &#x27;CryoSleep&#x27;, &#x27;Destination&#x27;, &#x27;VIP&#x27;, &#x27;cabin_deck&#x27;,\n",
       "       &#x27;cabin_side&#x27;, &#x27;AgeBinary&#x27;],\n",
       "      dtype=&#x27;object&#x27;))])</pre></div></div></div><div class=\"sk-parallel\"><div class=\"sk-parallel-item\"><div class=\"sk-item\"><div class=\"sk-label-container\"><div class=\"sk-label sk-toggleable\"><input class=\"sk-toggleable__control sk-hidden--visually\" id=\"7e8944be-a119-4cdd-8cd2-bef1d2945c09\" type=\"checkbox\" ><label for=\"7e8944be-a119-4cdd-8cd2-bef1d2945c09\" class=\"sk-toggleable__label sk-toggleable__label-arrow\">pipeline-1</label><div class=\"sk-toggleable__content\"><pre>Index([&#x27;total_spent&#x27;], dtype=&#x27;object&#x27;)</pre></div></div></div><div class=\"sk-serial\"><div class=\"sk-item\"><div class=\"sk-serial\"><div class=\"sk-item\"><div class=\"sk-estimator sk-toggleable\"><input class=\"sk-toggleable__control sk-hidden--visually\" id=\"c3c09c66-a5b6-464a-b015-490c5eefa3d8\" type=\"checkbox\" ><label for=\"c3c09c66-a5b6-464a-b015-490c5eefa3d8\" class=\"sk-toggleable__label sk-toggleable__label-arrow\">SimpleImputer</label><div class=\"sk-toggleable__content\"><pre>SimpleImputer()</pre></div></div></div><div class=\"sk-item\"><div class=\"sk-estimator sk-toggleable\"><input class=\"sk-toggleable__control sk-hidden--visually\" id=\"8780f34c-94a9-4872-b2b2-7875e49a1164\" type=\"checkbox\" ><label for=\"8780f34c-94a9-4872-b2b2-7875e49a1164\" class=\"sk-toggleable__label sk-toggleable__label-arrow\">MinMaxScaler</label><div class=\"sk-toggleable__content\"><pre>MinMaxScaler()</pre></div></div></div></div></div></div></div></div><div class=\"sk-parallel-item\"><div class=\"sk-item\"><div class=\"sk-label-container\"><div class=\"sk-label sk-toggleable\"><input class=\"sk-toggleable__control sk-hidden--visually\" id=\"05daeeda-6902-4da2-95e0-cb49c8356e3f\" type=\"checkbox\" ><label for=\"05daeeda-6902-4da2-95e0-cb49c8356e3f\" class=\"sk-toggleable__label sk-toggleable__label-arrow\">pipeline-2</label><div class=\"sk-toggleable__content\"><pre>Index([&#x27;HomePlanet&#x27;, &#x27;CryoSleep&#x27;, &#x27;Destination&#x27;, &#x27;VIP&#x27;, &#x27;cabin_deck&#x27;,\n",
       "       &#x27;cabin_side&#x27;, &#x27;AgeBinary&#x27;],\n",
       "      dtype=&#x27;object&#x27;)</pre></div></div></div><div class=\"sk-serial\"><div class=\"sk-item\"><div class=\"sk-serial\"><div class=\"sk-item\"><div class=\"sk-estimator sk-toggleable\"><input class=\"sk-toggleable__control sk-hidden--visually\" id=\"2b9cb0eb-ece6-49f7-8e38-1020b27d7640\" type=\"checkbox\" ><label for=\"2b9cb0eb-ece6-49f7-8e38-1020b27d7640\" class=\"sk-toggleable__label sk-toggleable__label-arrow\">OneHotEncoder</label><div class=\"sk-toggleable__content\"><pre>OneHotEncoder(handle_unknown=&#x27;ignore&#x27;)</pre></div></div></div></div></div></div></div></div></div></div></div></div>"
      ],
      "text/plain": [
       "ColumnTransformer(transformers=[('pipeline-1',\n",
       "                                 Pipeline(steps=[('simpleimputer',\n",
       "                                                  SimpleImputer()),\n",
       "                                                 ('minmaxscaler',\n",
       "                                                  MinMaxScaler())]),\n",
       "                                 Index(['total_spent'], dtype='object')),\n",
       "                                ('pipeline-2',\n",
       "                                 Pipeline(steps=[('onehotencoder',\n",
       "                                                  OneHotEncoder(handle_unknown='ignore'))]),\n",
       "                                 Index(['HomePlanet', 'CryoSleep', 'Destination', 'VIP', 'cabin_deck',\n",
       "       'cabin_side', 'AgeBinary'],\n",
       "      dtype='object'))])"
      ]
     },
     "execution_count": 11,
     "metadata": {},
     "output_type": "execute_result"
    }
   ],
   "source": [
    "preproc_numerical_baseline = make_pipeline(\n",
    "    SimpleImputer(), MinMaxScaler())\n",
    "\n",
    "preproc_categorical_baseline = make_pipeline(\n",
    "    OneHotEncoder(handle_unknown=\"ignore\"))\n",
    "\n",
    "preproc_baseline = make_column_transformer(\n",
    "    (preproc_numerical_baseline, feat_numerical),\n",
    "    (preproc_categorical_baseline, feat_categorical),\n",
    "    remainder=\"drop\")\n",
    "\n",
    "preproc_baseline"
   ]
  },
  {
   "cell_type": "code",
   "execution_count": 20,
   "metadata": {},
   "outputs": [
    {
     "data": {
      "text/plain": [
       "Pipeline(steps=[('columntransformer',\n",
       "                 ColumnTransformer(transformers=[('pipeline-1',\n",
       "                                                  Pipeline(steps=[('simpleimputer',\n",
       "                                                                   SimpleImputer()),\n",
       "                                                                  ('minmaxscaler',\n",
       "                                                                   MinMaxScaler())]),\n",
       "                                                  Index(['Age', 'total_spent'], dtype='object')),\n",
       "                                                 ('pipeline-2',\n",
       "                                                  Pipeline(steps=[('onehotencoder',\n",
       "                                                                   OneHotEncoder(handle_unknown='ignore'))]),\n",
       "                                                  Index(['HomePlanet', 'CryoSleep', 'Destination', 'VIP', 'cabin_deck',\n",
       "       'cabin_side'],\n",
       "      dtype='object'))])),\n",
       "                ('logisticregression', LogisticRegression())])"
      ]
     },
     "execution_count": 20,
     "metadata": {},
     "output_type": "execute_result"
    }
   ],
   "source": [
    "pipe_baseline = make_pipeline(preproc_baseline, LogisticRegression())\n",
    "pipe_baseline"
   ]
  },
  {
   "cell_type": "code",
   "execution_count": 21,
   "metadata": {},
   "outputs": [
    {
     "name": "stderr",
     "output_type": "stream",
     "text": [
      "/home/thomas/.pyenv/versions/3.8.12/envs/lewagon/lib/python3.8/site-packages/sklearn/linear_model/_logistic.py:814: ConvergenceWarning: lbfgs failed to converge (status=1):\n",
      "STOP: TOTAL NO. of ITERATIONS REACHED LIMIT.\n",
      "\n",
      "Increase the number of iterations (max_iter) or scale the data as shown in:\n",
      "    https://scikit-learn.org/stable/modules/preprocessing.html\n",
      "Please also refer to the documentation for alternative solver options:\n",
      "    https://scikit-learn.org/stable/modules/linear_model.html#logistic-regression\n",
      "  n_iter_i = _check_optimize_result(\n"
     ]
    },
    {
     "data": {
      "text/plain": [
       "0.7259879128449018"
      ]
     },
     "execution_count": 21,
     "metadata": {},
     "output_type": "execute_result"
    }
   ],
   "source": [
    "score_baseline = cross_val_score(pipe_baseline, X, y_encoded, cv=5, scoring='accuracy').mean()\n",
    "score_baseline"
   ]
  },
  {
   "cell_type": "code",
   "execution_count": 22,
   "metadata": {},
   "outputs": [
    {
     "data": {
      "text/plain": [
       "array([1, 0, 1, ..., 1, 0, 1])"
      ]
     },
     "execution_count": 22,
     "metadata": {},
     "output_type": "execute_result"
    }
   ],
   "source": [
    "X_test = pd.read_csv(\"Data/test.csv\")\n",
    "X_test_ids = X_test['PassengerId']\n",
    "X_test['total_spent'] = X_test['RoomService'] + X_test['FoodCourt'] + X_test['ShoppingMall'] + X_test['Spa'] + X_test['VRDeck']\n",
    "X_test[['cabin_deck', 'cabin_num', 'cabin_side']] = X_test.Cabin.str.split(\"/\", expand = True)\n",
    "X_test = X_test.drop(columns=['PassengerId', 'Name', 'Cabin', 'cabin_num', 'RoomService', 'FoodCourt', 'ShoppingMall', 'Spa', 'VRDeck'])\n",
    "\n",
    "pipe_baseline.fit(X,y_encoded)\n",
    "y_pred_baseline = pipe_baseline.predict(X_test)\n",
    "y_pred_baseline"
   ]
  },
  {
   "attachments": {},
   "cell_type": "markdown",
   "metadata": {},
   "source": [
    "## Model Iteration"
   ]
  },
  {
   "cell_type": "code",
   "execution_count": 14,
   "metadata": {},
   "outputs": [
    {
     "data": {
      "text/html": [
       "<style>#sk-68e0cba1-6b13-478f-bf29-1b72e7f6397e {color: black;background-color: white;}#sk-68e0cba1-6b13-478f-bf29-1b72e7f6397e pre{padding: 0;}#sk-68e0cba1-6b13-478f-bf29-1b72e7f6397e div.sk-toggleable {background-color: white;}#sk-68e0cba1-6b13-478f-bf29-1b72e7f6397e label.sk-toggleable__label {cursor: pointer;display: block;width: 100%;margin-bottom: 0;padding: 0.3em;box-sizing: border-box;text-align: center;}#sk-68e0cba1-6b13-478f-bf29-1b72e7f6397e label.sk-toggleable__label-arrow:before {content: \"▸\";float: left;margin-right: 0.25em;color: #696969;}#sk-68e0cba1-6b13-478f-bf29-1b72e7f6397e label.sk-toggleable__label-arrow:hover:before {color: black;}#sk-68e0cba1-6b13-478f-bf29-1b72e7f6397e div.sk-estimator:hover label.sk-toggleable__label-arrow:before {color: black;}#sk-68e0cba1-6b13-478f-bf29-1b72e7f6397e div.sk-toggleable__content {max-height: 0;max-width: 0;overflow: hidden;text-align: left;background-color: #f0f8ff;}#sk-68e0cba1-6b13-478f-bf29-1b72e7f6397e div.sk-toggleable__content pre {margin: 0.2em;color: black;border-radius: 0.25em;background-color: #f0f8ff;}#sk-68e0cba1-6b13-478f-bf29-1b72e7f6397e input.sk-toggleable__control:checked~div.sk-toggleable__content {max-height: 200px;max-width: 100%;overflow: auto;}#sk-68e0cba1-6b13-478f-bf29-1b72e7f6397e input.sk-toggleable__control:checked~label.sk-toggleable__label-arrow:before {content: \"▾\";}#sk-68e0cba1-6b13-478f-bf29-1b72e7f6397e div.sk-estimator input.sk-toggleable__control:checked~label.sk-toggleable__label {background-color: #d4ebff;}#sk-68e0cba1-6b13-478f-bf29-1b72e7f6397e div.sk-label input.sk-toggleable__control:checked~label.sk-toggleable__label {background-color: #d4ebff;}#sk-68e0cba1-6b13-478f-bf29-1b72e7f6397e input.sk-hidden--visually {border: 0;clip: rect(1px 1px 1px 1px);clip: rect(1px, 1px, 1px, 1px);height: 1px;margin: -1px;overflow: hidden;padding: 0;position: absolute;width: 1px;}#sk-68e0cba1-6b13-478f-bf29-1b72e7f6397e div.sk-estimator {font-family: monospace;background-color: #f0f8ff;border: 1px dotted black;border-radius: 0.25em;box-sizing: border-box;margin-bottom: 0.5em;}#sk-68e0cba1-6b13-478f-bf29-1b72e7f6397e div.sk-estimator:hover {background-color: #d4ebff;}#sk-68e0cba1-6b13-478f-bf29-1b72e7f6397e div.sk-parallel-item::after {content: \"\";width: 100%;border-bottom: 1px solid gray;flex-grow: 1;}#sk-68e0cba1-6b13-478f-bf29-1b72e7f6397e div.sk-label:hover label.sk-toggleable__label {background-color: #d4ebff;}#sk-68e0cba1-6b13-478f-bf29-1b72e7f6397e div.sk-serial::before {content: \"\";position: absolute;border-left: 1px solid gray;box-sizing: border-box;top: 2em;bottom: 0;left: 50%;}#sk-68e0cba1-6b13-478f-bf29-1b72e7f6397e div.sk-serial {display: flex;flex-direction: column;align-items: center;background-color: white;padding-right: 0.2em;padding-left: 0.2em;}#sk-68e0cba1-6b13-478f-bf29-1b72e7f6397e div.sk-item {z-index: 1;}#sk-68e0cba1-6b13-478f-bf29-1b72e7f6397e div.sk-parallel {display: flex;align-items: stretch;justify-content: center;background-color: white;}#sk-68e0cba1-6b13-478f-bf29-1b72e7f6397e div.sk-parallel::before {content: \"\";position: absolute;border-left: 1px solid gray;box-sizing: border-box;top: 2em;bottom: 0;left: 50%;}#sk-68e0cba1-6b13-478f-bf29-1b72e7f6397e div.sk-parallel-item {display: flex;flex-direction: column;position: relative;background-color: white;}#sk-68e0cba1-6b13-478f-bf29-1b72e7f6397e div.sk-parallel-item:first-child::after {align-self: flex-end;width: 50%;}#sk-68e0cba1-6b13-478f-bf29-1b72e7f6397e div.sk-parallel-item:last-child::after {align-self: flex-start;width: 50%;}#sk-68e0cba1-6b13-478f-bf29-1b72e7f6397e div.sk-parallel-item:only-child::after {width: 0;}#sk-68e0cba1-6b13-478f-bf29-1b72e7f6397e div.sk-dashed-wrapped {border: 1px dashed gray;margin: 0 0.4em 0.5em 0.4em;box-sizing: border-box;padding-bottom: 0.4em;background-color: white;position: relative;}#sk-68e0cba1-6b13-478f-bf29-1b72e7f6397e div.sk-label label {font-family: monospace;font-weight: bold;background-color: white;display: inline-block;line-height: 1.2em;}#sk-68e0cba1-6b13-478f-bf29-1b72e7f6397e div.sk-label-container {position: relative;z-index: 2;text-align: center;}#sk-68e0cba1-6b13-478f-bf29-1b72e7f6397e div.sk-container {/* jupyter's `normalize.less` sets `[hidden] { display: none; }` but bootstrap.min.css set `[hidden] { display: none !important; }` so we also need the `!important` here to be able to override the default hidden behavior on the sphinx rendered scikit-learn.org. See: https://github.com/scikit-learn/scikit-learn/issues/21755 */display: inline-block !important;position: relative;}#sk-68e0cba1-6b13-478f-bf29-1b72e7f6397e div.sk-text-repr-fallback {display: none;}</style><div id=\"sk-68e0cba1-6b13-478f-bf29-1b72e7f6397e\" class=\"sk-top-container\"><div class=\"sk-text-repr-fallback\"><pre>ColumnTransformer(transformers=[(&#x27;pipeline-1&#x27;,\n",
       "                                 Pipeline(steps=[(&#x27;simpleimputer&#x27;,\n",
       "                                                  SimpleImputer(strategy=&#x27;median&#x27;)),\n",
       "                                                 (&#x27;standardscaler&#x27;,\n",
       "                                                  StandardScaler())]),\n",
       "                                 Index([&#x27;RoomService&#x27;, &#x27;FoodCourt&#x27;, &#x27;ShoppingMall&#x27;, &#x27;Spa&#x27;, &#x27;VRDeck&#x27;,\n",
       "       &#x27;total_spent_log&#x27;],\n",
       "      dtype=&#x27;object&#x27;)),\n",
       "                                (&#x27;pipeline-2&#x27;,\n",
       "                                 Pipeline(steps=[(&#x27;simpleimputer&#x27;,\n",
       "                                                  SimpleImputer(strategy=&#x27;most_frequent&#x27;)),\n",
       "                                                 (&#x27;onehotencoder&#x27;,\n",
       "                                                  OneHotEncoder(handle_unknown=&#x27;ignore&#x27;,\n",
       "                                                                sparse=False))]),\n",
       "                                 Index([&#x27;HomePlanet&#x27;, &#x27;Destination&#x27;, &#x27;VIP&#x27;, &#x27;cabin_deck&#x27;, &#x27;cabin_side&#x27;,\n",
       "       &#x27;AgeCategory&#x27;],\n",
       "      dtype=&#x27;object&#x27;))])</pre><b>Please rerun this cell to show the HTML repr or trust the notebook.</b></div><div class=\"sk-container\" hidden><div class=\"sk-item sk-dashed-wrapped\"><div class=\"sk-label-container\"><div class=\"sk-label sk-toggleable\"><input class=\"sk-toggleable__control sk-hidden--visually\" id=\"2f828eb7-542d-4112-8f4c-310712b2435c\" type=\"checkbox\" ><label for=\"2f828eb7-542d-4112-8f4c-310712b2435c\" class=\"sk-toggleable__label sk-toggleable__label-arrow\">ColumnTransformer</label><div class=\"sk-toggleable__content\"><pre>ColumnTransformer(transformers=[(&#x27;pipeline-1&#x27;,\n",
       "                                 Pipeline(steps=[(&#x27;simpleimputer&#x27;,\n",
       "                                                  SimpleImputer(strategy=&#x27;median&#x27;)),\n",
       "                                                 (&#x27;standardscaler&#x27;,\n",
       "                                                  StandardScaler())]),\n",
       "                                 Index([&#x27;RoomService&#x27;, &#x27;FoodCourt&#x27;, &#x27;ShoppingMall&#x27;, &#x27;Spa&#x27;, &#x27;VRDeck&#x27;,\n",
       "       &#x27;total_spent_log&#x27;],\n",
       "      dtype=&#x27;object&#x27;)),\n",
       "                                (&#x27;pipeline-2&#x27;,\n",
       "                                 Pipeline(steps=[(&#x27;simpleimputer&#x27;,\n",
       "                                                  SimpleImputer(strategy=&#x27;most_frequent&#x27;)),\n",
       "                                                 (&#x27;onehotencoder&#x27;,\n",
       "                                                  OneHotEncoder(handle_unknown=&#x27;ignore&#x27;,\n",
       "                                                                sparse=False))]),\n",
       "                                 Index([&#x27;HomePlanet&#x27;, &#x27;Destination&#x27;, &#x27;VIP&#x27;, &#x27;cabin_deck&#x27;, &#x27;cabin_side&#x27;,\n",
       "       &#x27;AgeCategory&#x27;],\n",
       "      dtype=&#x27;object&#x27;))])</pre></div></div></div><div class=\"sk-parallel\"><div class=\"sk-parallel-item\"><div class=\"sk-item\"><div class=\"sk-label-container\"><div class=\"sk-label sk-toggleable\"><input class=\"sk-toggleable__control sk-hidden--visually\" id=\"b70fec89-da20-4196-aafe-d802ce427d9c\" type=\"checkbox\" ><label for=\"b70fec89-da20-4196-aafe-d802ce427d9c\" class=\"sk-toggleable__label sk-toggleable__label-arrow\">pipeline-1</label><div class=\"sk-toggleable__content\"><pre>Index([&#x27;RoomService&#x27;, &#x27;FoodCourt&#x27;, &#x27;ShoppingMall&#x27;, &#x27;Spa&#x27;, &#x27;VRDeck&#x27;,\n",
       "       &#x27;total_spent_log&#x27;],\n",
       "      dtype=&#x27;object&#x27;)</pre></div></div></div><div class=\"sk-serial\"><div class=\"sk-item\"><div class=\"sk-serial\"><div class=\"sk-item\"><div class=\"sk-estimator sk-toggleable\"><input class=\"sk-toggleable__control sk-hidden--visually\" id=\"5eeceb88-e5f5-4674-9304-e332e746fad0\" type=\"checkbox\" ><label for=\"5eeceb88-e5f5-4674-9304-e332e746fad0\" class=\"sk-toggleable__label sk-toggleable__label-arrow\">SimpleImputer</label><div class=\"sk-toggleable__content\"><pre>SimpleImputer(strategy=&#x27;median&#x27;)</pre></div></div></div><div class=\"sk-item\"><div class=\"sk-estimator sk-toggleable\"><input class=\"sk-toggleable__control sk-hidden--visually\" id=\"13cab656-995e-4b9f-97aa-09edfdf1c037\" type=\"checkbox\" ><label for=\"13cab656-995e-4b9f-97aa-09edfdf1c037\" class=\"sk-toggleable__label sk-toggleable__label-arrow\">StandardScaler</label><div class=\"sk-toggleable__content\"><pre>StandardScaler()</pre></div></div></div></div></div></div></div></div><div class=\"sk-parallel-item\"><div class=\"sk-item\"><div class=\"sk-label-container\"><div class=\"sk-label sk-toggleable\"><input class=\"sk-toggleable__control sk-hidden--visually\" id=\"be3258ae-f92f-49b6-b433-b0d1496a7f1c\" type=\"checkbox\" ><label for=\"be3258ae-f92f-49b6-b433-b0d1496a7f1c\" class=\"sk-toggleable__label sk-toggleable__label-arrow\">pipeline-2</label><div class=\"sk-toggleable__content\"><pre>Index([&#x27;HomePlanet&#x27;, &#x27;Destination&#x27;, &#x27;VIP&#x27;, &#x27;cabin_deck&#x27;, &#x27;cabin_side&#x27;,\n",
       "       &#x27;AgeCategory&#x27;],\n",
       "      dtype=&#x27;object&#x27;)</pre></div></div></div><div class=\"sk-serial\"><div class=\"sk-item\"><div class=\"sk-serial\"><div class=\"sk-item\"><div class=\"sk-estimator sk-toggleable\"><input class=\"sk-toggleable__control sk-hidden--visually\" id=\"4c82e367-1860-496a-832a-08affa431c58\" type=\"checkbox\" ><label for=\"4c82e367-1860-496a-832a-08affa431c58\" class=\"sk-toggleable__label sk-toggleable__label-arrow\">SimpleImputer</label><div class=\"sk-toggleable__content\"><pre>SimpleImputer(strategy=&#x27;most_frequent&#x27;)</pre></div></div></div><div class=\"sk-item\"><div class=\"sk-estimator sk-toggleable\"><input class=\"sk-toggleable__control sk-hidden--visually\" id=\"83db194f-236d-43e5-b0d1-1d244a2b60ad\" type=\"checkbox\" ><label for=\"83db194f-236d-43e5-b0d1-1d244a2b60ad\" class=\"sk-toggleable__label sk-toggleable__label-arrow\">OneHotEncoder</label><div class=\"sk-toggleable__content\"><pre>OneHotEncoder(handle_unknown=&#x27;ignore&#x27;, sparse=False)</pre></div></div></div></div></div></div></div></div></div></div></div></div>"
      ],
      "text/plain": [
       "ColumnTransformer(transformers=[('pipeline-1',\n",
       "                                 Pipeline(steps=[('simpleimputer',\n",
       "                                                  SimpleImputer(strategy='median')),\n",
       "                                                 ('standardscaler',\n",
       "                                                  StandardScaler())]),\n",
       "                                 Index(['RoomService', 'FoodCourt', 'ShoppingMall', 'Spa', 'VRDeck',\n",
       "       'total_spent_log'],\n",
       "      dtype='object')),\n",
       "                                ('pipeline-2',\n",
       "                                 Pipeline(steps=[('simpleimputer',\n",
       "                                                  SimpleImputer(strategy='most_frequent')),\n",
       "                                                 ('onehotencoder',\n",
       "                                                  OneHotEncoder(handle_unknown='ignore',\n",
       "                                                                sparse=False))]),\n",
       "                                 Index(['HomePlanet', 'Destination', 'VIP', 'cabin_deck', 'cabin_side',\n",
       "       'AgeCategory'],\n",
       "      dtype='object'))])"
      ]
     },
     "execution_count": 14,
     "metadata": {},
     "output_type": "execute_result"
    }
   ],
   "source": [
    "preproc_numerical = make_pipeline(\n",
    "    SimpleImputer(strategy=\"median\"), StandardScaler())\n",
    "\n",
    "preproc_categorical = make_pipeline(\n",
    "    SimpleImputer(strategy=\"most_frequent\"), OneHotEncoder(handle_unknown='ignore', sparse=False))\n",
    "\n",
    "preproc = make_column_transformer(\n",
    "    (preproc_numerical, feat_numerical),\n",
    "    (preproc_categorical, feat_categorical),\n",
    "    remainder=\"drop\")\n",
    "\n",
    "preproc"
   ]
  },
  {
   "attachments": {},
   "cell_type": "markdown",
   "metadata": {},
   "source": [
    "### Decision Tree"
   ]
  },
  {
   "cell_type": "code",
   "execution_count": 12,
   "metadata": {},
   "outputs": [
    {
     "data": {
      "text/plain": [
       "0.6749100543875659"
      ]
     },
     "execution_count": 12,
     "metadata": {},
     "output_type": "execute_result"
    }
   ],
   "source": [
    "model = DecisionTreeClassifier()\n",
    "pipe_decision_tree = make_pipeline(preproc, model) \n",
    "cross_val_score(pipe_decision_tree, X, y_encoded, cv=5, scoring='accuracy').mean()"
   ]
  },
  {
   "attachments": {},
   "cell_type": "markdown",
   "metadata": {},
   "source": [
    "### SVC"
   ]
  },
  {
   "cell_type": "code",
   "execution_count": 19,
   "metadata": {},
   "outputs": [
    {
     "data": {
      "text/plain": [
       "0.724031972133238"
      ]
     },
     "execution_count": 19,
     "metadata": {},
     "output_type": "execute_result"
    }
   ],
   "source": [
    "model = SVC()\n",
    "pipe_decision_tree = make_pipeline(preproc, model) \n",
    "cross_val_score(pipe_decision_tree, X, y_encoded, cv=5, scoring='accuracy').mean()"
   ]
  },
  {
   "attachments": {},
   "cell_type": "markdown",
   "metadata": {},
   "source": [
    "### Random Forest Classifier"
   ]
  },
  {
   "cell_type": "code",
   "execution_count": 18,
   "metadata": {},
   "outputs": [
    {
     "data": {
      "text/plain": [
       "0.7045902867341057"
      ]
     },
     "execution_count": 18,
     "metadata": {},
     "output_type": "execute_result"
    }
   ],
   "source": [
    "model = RandomForestClassifier()\n",
    "pipe_RandomForest = make_pipeline(preproc, model) \n",
    "cross_val_score(pipe_RandomForest, X, y_encoded, cv=5, scoring='accuracy').mean()"
   ]
  },
  {
   "attachments": {},
   "cell_type": "markdown",
   "metadata": {},
   "source": [
    "### AdaBoost"
   ]
  },
  {
   "cell_type": "code",
   "execution_count": 19,
   "metadata": {},
   "outputs": [
    {
     "data": {
      "text/plain": [
       "0.7311644259395405"
      ]
     },
     "execution_count": 19,
     "metadata": {},
     "output_type": "execute_result"
    }
   ],
   "source": [
    "model = AdaBoostClassifier()\n",
    "pipe_AdaBoost = make_pipeline(preproc, model) \n",
    "cross_val_score(pipe_AdaBoost, X, y_encoded, cv=5, scoring='accuracy').mean()"
   ]
  },
  {
   "attachments": {},
   "cell_type": "markdown",
   "metadata": {},
   "source": [
    "### KNN"
   ]
  },
  {
   "cell_type": "code",
   "execution_count": 20,
   "metadata": {},
   "outputs": [
    {
     "data": {
      "text/plain": [
       "0.6808911646509276"
      ]
     },
     "execution_count": 20,
     "metadata": {},
     "output_type": "execute_result"
    }
   ],
   "source": [
    "model = KNeighborsClassifier(n_neighbors=3)\n",
    "pipe_KNN = make_pipeline(preproc, model) \n",
    "cross_val_score(pipe_KNN, X, y_encoded, cv=5, scoring='accuracy').mean()"
   ]
  },
  {
   "attachments": {},
   "cell_type": "markdown",
   "metadata": {},
   "source": [
    "### XGBoost"
   ]
  },
  {
   "cell_type": "code",
   "execution_count": 23,
   "metadata": {},
   "outputs": [
    {
     "data": {
      "text/plain": [
       "0.796965373668848"
      ]
     },
     "execution_count": 23,
     "metadata": {},
     "output_type": "execute_result"
    }
   ],
   "source": [
    "model = XGBClassifier(learning_rate=0.065, max_depth=4, n_estimators=300, reg_lambda=1, reg_alpha=1, use_label_encoder=False,\n",
    "                subsample=0.8, colsample_bytree=0.8, gamma=10, min_child_weight=1, booster='gbtree', eval_metric='logloss')\n",
    "                                        \n",
    "pipe_XGBoost = make_pipeline(preproc, model) \n",
    "cross_val_score(pipe_XGBoost, X, y_encoded, cv=5, scoring='accuracy', n_jobs=-1).mean()"
   ]
  },
  {
   "attachments": {},
   "cell_type": "markdown",
   "metadata": {},
   "source": [
    "### Voting"
   ]
  },
  {
   "cell_type": "code",
   "execution_count": null,
   "metadata": {},
   "outputs": [],
   "source": [
    "Xgboost = XGBClassifier(learning_rate=0.1, max_depth=5, n_estimators=100, reg_lambda=1, reg_alpha=1, use_label_encoder=False,\n",
    "                subsample=0.8, colsample_bytree=0.8, gamma=0, min_child_weight=1, booster='gbtree', eval_metric='logloss')\n",
    "Logreg = LogisticRegression()\n",
    "Svc = SVC()\n",
    "Adaboost = AdaBoostClassifier()\n",
    "\n",
    "\n",
    "model = VotingClassifier(\n",
    "    estimators = [(\"Xgboost\", Xgboost),(\"Logreg\", Logreg),(\"Svc\", Svc), (\"Adaboost\", Adaboost)],\n",
    "    weights = [1,1,1,1], # to equally weight the two models\n",
    "    n_jobs=-1\n",
    ")\n",
    "\n",
    "pipe_ensemble = make_pipeline(preproc, model)\n",
    "\n",
    "score = cross_val_score(pipe_ensemble, X, y_encoded, cv=5, scoring='accuracy', n_jobs=-1)\n",
    "print(score.std())\n",
    "score.mean()"
   ]
  },
  {
   "attachments": {},
   "cell_type": "markdown",
   "metadata": {},
   "source": [
    "### Stacking"
   ]
  },
  {
   "cell_type": "code",
   "execution_count": 22,
   "metadata": {},
   "outputs": [
    {
     "name": "stdout",
     "output_type": "stream",
     "text": [
      "0.008769707095997229\n"
     ]
    },
    {
     "data": {
      "text/plain": [
       "0.7468091061950475"
      ]
     },
     "execution_count": 22,
     "metadata": {},
     "output_type": "execute_result"
    }
   ],
   "source": [
    "Xgboost = XGBClassifier(learning_rate=0.1, max_depth=5, n_estimators=100, reg_lambda=1, reg_alpha=1, use_label_encoder=False,\n",
    "                subsample=0.8, colsample_bytree=0.8, gamma=0, min_child_weight=1, booster='gbtree', eval_metric='logloss')\n",
    "Logreg = LogisticRegression()\n",
    "Svc = SVC()\n",
    "Adaboost = AdaBoostClassifier()\n",
    "Gnb = GaussianNB()\n",
    "\n",
    "model = StackingClassifier(\n",
    "    estimators=[(\"Xgboost\", Xgboost),(\"Svc\", Svc),(\"Adaboost\", Adaboost), (\"Gnb\", Gnb)],\n",
    "    \n",
    "    final_estimator=LogisticRegression(),\n",
    "    cv=5,\n",
    "    n_jobs=-1\n",
    ")\n",
    "\n",
    "pipe_stacking = make_pipeline(preproc, model)\n",
    "score = cross_val_score(pipe_stacking, X, y_encoded, cv=5, scoring='accuracy', n_jobs=-1)\n",
    "print(score.std())\n",
    "score.mean()"
   ]
  },
  {
   "attachments": {},
   "cell_type": "markdown",
   "metadata": {},
   "source": [
    "## Train and Tune the Model"
   ]
  },
  {
   "cell_type": "code",
   "execution_count": null,
   "metadata": {},
   "outputs": [
    {
     "data": {
      "text/plain": [
       "{'memory': None,\n",
       " 'steps': [('columntransformer',\n",
       "   ColumnTransformer(transformers=[('pipeline-1',\n",
       "                                    Pipeline(steps=[('simpleimputer',\n",
       "                                                     SimpleImputer(strategy='median')),\n",
       "                                                    ('standardscaler',\n",
       "                                                     StandardScaler())]),\n",
       "                                    Index(['Age', 'total_spent'], dtype='object')),\n",
       "                                   ('pipeline-2',\n",
       "                                    Pipeline(steps=[('simpleimputer',\n",
       "                                                     SimpleImputer(strategy='most_frequent')),\n",
       "                                                    ('onehotencoder',\n",
       "                                                     OneHotEncoder(handle_unknown='ignore'))]),\n",
       "                                    Index(['HomePlanet', 'CryoSleep', 'Destination', 'VIP', 'cabin_deck',\n",
       "          'cabin_side'],\n",
       "         dtype='object'))])),\n",
       "  ('xgbclassifier',\n",
       "   XGBClassifier(base_score=0.5, booster='gbtree', colsample_bylevel=1,\n",
       "                 colsample_bynode=1, colsample_bytree=0.8,\n",
       "                 enable_categorical=False, eval_metric='logloss', gamma=0,\n",
       "                 gpu_id=-1, importance_type=None, interaction_constraints='',\n",
       "                 learning_rate=0.1, max_delta_step=0, max_depth=5,\n",
       "                 min_child_weight=1, missing=nan, monotone_constraints='()',\n",
       "                 n_estimators=100, n_jobs=4, num_parallel_tree=1, predictor='auto',\n",
       "                 random_state=0, reg_alpha=1, reg_lambda=1, scale_pos_weight=1,\n",
       "                 subsample=0.8, tree_method='exact', use_label_encoder=False,\n",
       "                 validate_parameters=1, verbosity=None))],\n",
       " 'verbose': False,\n",
       " 'columntransformer': ColumnTransformer(transformers=[('pipeline-1',\n",
       "                                  Pipeline(steps=[('simpleimputer',\n",
       "                                                   SimpleImputer(strategy='median')),\n",
       "                                                  ('standardscaler',\n",
       "                                                   StandardScaler())]),\n",
       "                                  Index(['Age', 'total_spent'], dtype='object')),\n",
       "                                 ('pipeline-2',\n",
       "                                  Pipeline(steps=[('simpleimputer',\n",
       "                                                   SimpleImputer(strategy='most_frequent')),\n",
       "                                                  ('onehotencoder',\n",
       "                                                   OneHotEncoder(handle_unknown='ignore'))]),\n",
       "                                  Index(['HomePlanet', 'CryoSleep', 'Destination', 'VIP', 'cabin_deck',\n",
       "        'cabin_side'],\n",
       "       dtype='object'))]),\n",
       " 'xgbclassifier': XGBClassifier(base_score=0.5, booster='gbtree', colsample_bylevel=1,\n",
       "               colsample_bynode=1, colsample_bytree=0.8,\n",
       "               enable_categorical=False, eval_metric='logloss', gamma=0,\n",
       "               gpu_id=-1, importance_type=None, interaction_constraints='',\n",
       "               learning_rate=0.1, max_delta_step=0, max_depth=5,\n",
       "               min_child_weight=1, missing=nan, monotone_constraints='()',\n",
       "               n_estimators=100, n_jobs=4, num_parallel_tree=1, predictor='auto',\n",
       "               random_state=0, reg_alpha=1, reg_lambda=1, scale_pos_weight=1,\n",
       "               subsample=0.8, tree_method='exact', use_label_encoder=False,\n",
       "               validate_parameters=1, verbosity=None),\n",
       " 'columntransformer__n_jobs': None,\n",
       " 'columntransformer__remainder': 'drop',\n",
       " 'columntransformer__sparse_threshold': 0.3,\n",
       " 'columntransformer__transformer_weights': None,\n",
       " 'columntransformer__transformers': [('pipeline-1',\n",
       "   Pipeline(steps=[('simpleimputer', SimpleImputer(strategy='median')),\n",
       "                   ('standardscaler', StandardScaler())]),\n",
       "   Index(['Age', 'total_spent'], dtype='object')),\n",
       "  ('pipeline-2',\n",
       "   Pipeline(steps=[('simpleimputer', SimpleImputer(strategy='most_frequent')),\n",
       "                   ('onehotencoder', OneHotEncoder(handle_unknown='ignore'))]),\n",
       "   Index(['HomePlanet', 'CryoSleep', 'Destination', 'VIP', 'cabin_deck',\n",
       "          'cabin_side'],\n",
       "         dtype='object'))],\n",
       " 'columntransformer__verbose': False,\n",
       " 'columntransformer__verbose_feature_names_out': True,\n",
       " 'columntransformer__pipeline-1': Pipeline(steps=[('simpleimputer', SimpleImputer(strategy='median')),\n",
       "                 ('standardscaler', StandardScaler())]),\n",
       " 'columntransformer__pipeline-2': Pipeline(steps=[('simpleimputer', SimpleImputer(strategy='most_frequent')),\n",
       "                 ('onehotencoder', OneHotEncoder(handle_unknown='ignore'))]),\n",
       " 'columntransformer__pipeline-1__memory': None,\n",
       " 'columntransformer__pipeline-1__steps': [('simpleimputer',\n",
       "   SimpleImputer(strategy='median')),\n",
       "  ('standardscaler', StandardScaler())],\n",
       " 'columntransformer__pipeline-1__verbose': False,\n",
       " 'columntransformer__pipeline-1__simpleimputer': SimpleImputer(strategy='median'),\n",
       " 'columntransformer__pipeline-1__standardscaler': StandardScaler(),\n",
       " 'columntransformer__pipeline-1__simpleimputer__add_indicator': False,\n",
       " 'columntransformer__pipeline-1__simpleimputer__copy': True,\n",
       " 'columntransformer__pipeline-1__simpleimputer__fill_value': None,\n",
       " 'columntransformer__pipeline-1__simpleimputer__missing_values': nan,\n",
       " 'columntransformer__pipeline-1__simpleimputer__strategy': 'median',\n",
       " 'columntransformer__pipeline-1__simpleimputer__verbose': 0,\n",
       " 'columntransformer__pipeline-1__standardscaler__copy': True,\n",
       " 'columntransformer__pipeline-1__standardscaler__with_mean': True,\n",
       " 'columntransformer__pipeline-1__standardscaler__with_std': True,\n",
       " 'columntransformer__pipeline-2__memory': None,\n",
       " 'columntransformer__pipeline-2__steps': [('simpleimputer',\n",
       "   SimpleImputer(strategy='most_frequent')),\n",
       "  ('onehotencoder', OneHotEncoder(handle_unknown='ignore'))],\n",
       " 'columntransformer__pipeline-2__verbose': False,\n",
       " 'columntransformer__pipeline-2__simpleimputer': SimpleImputer(strategy='most_frequent'),\n",
       " 'columntransformer__pipeline-2__onehotencoder': OneHotEncoder(handle_unknown='ignore'),\n",
       " 'columntransformer__pipeline-2__simpleimputer__add_indicator': False,\n",
       " 'columntransformer__pipeline-2__simpleimputer__copy': True,\n",
       " 'columntransformer__pipeline-2__simpleimputer__fill_value': None,\n",
       " 'columntransformer__pipeline-2__simpleimputer__missing_values': nan,\n",
       " 'columntransformer__pipeline-2__simpleimputer__strategy': 'most_frequent',\n",
       " 'columntransformer__pipeline-2__simpleimputer__verbose': 0,\n",
       " 'columntransformer__pipeline-2__onehotencoder__categories': 'auto',\n",
       " 'columntransformer__pipeline-2__onehotencoder__drop': None,\n",
       " 'columntransformer__pipeline-2__onehotencoder__dtype': numpy.float64,\n",
       " 'columntransformer__pipeline-2__onehotencoder__handle_unknown': 'ignore',\n",
       " 'columntransformer__pipeline-2__onehotencoder__sparse': True,\n",
       " 'xgbclassifier__objective': 'binary:logistic',\n",
       " 'xgbclassifier__use_label_encoder': False,\n",
       " 'xgbclassifier__base_score': 0.5,\n",
       " 'xgbclassifier__booster': 'gbtree',\n",
       " 'xgbclassifier__colsample_bylevel': 1,\n",
       " 'xgbclassifier__colsample_bynode': 1,\n",
       " 'xgbclassifier__colsample_bytree': 0.8,\n",
       " 'xgbclassifier__enable_categorical': False,\n",
       " 'xgbclassifier__gamma': 0,\n",
       " 'xgbclassifier__gpu_id': -1,\n",
       " 'xgbclassifier__importance_type': None,\n",
       " 'xgbclassifier__interaction_constraints': '',\n",
       " 'xgbclassifier__learning_rate': 0.1,\n",
       " 'xgbclassifier__max_delta_step': 0,\n",
       " 'xgbclassifier__max_depth': 5,\n",
       " 'xgbclassifier__min_child_weight': 1,\n",
       " 'xgbclassifier__missing': nan,\n",
       " 'xgbclassifier__monotone_constraints': '()',\n",
       " 'xgbclassifier__n_estimators': 100,\n",
       " 'xgbclassifier__n_jobs': 4,\n",
       " 'xgbclassifier__num_parallel_tree': 1,\n",
       " 'xgbclassifier__predictor': 'auto',\n",
       " 'xgbclassifier__random_state': 0,\n",
       " 'xgbclassifier__reg_alpha': 1,\n",
       " 'xgbclassifier__reg_lambda': 1,\n",
       " 'xgbclassifier__scale_pos_weight': 1,\n",
       " 'xgbclassifier__subsample': 0.8,\n",
       " 'xgbclassifier__tree_method': 'exact',\n",
       " 'xgbclassifier__validate_parameters': 1,\n",
       " 'xgbclassifier__verbosity': None,\n",
       " 'xgbclassifier__eval_metric': 'logloss'}"
      ]
     },
     "execution_count": 18,
     "metadata": {},
     "output_type": "execute_result"
    }
   ],
   "source": [
    "pipe_XGBoost.get_params()"
   ]
  },
  {
   "cell_type": "code",
   "execution_count": null,
   "metadata": {},
   "outputs": [],
   "source": [
    "allow_grid_searching = True\n",
    "\n",
    "if allow_grid_searching:\n",
    "    param_grid =  {'xgbclassifier__max_depth': [4, 5, 6],\n",
    "                  'xgbclassifier__n_estimators': [100, 150, 200],\n",
    "                   'xgbclassifier__learning_rate': [0.07, 0.1, 0.13],\n",
    "                  }\n",
    "    search_XGBoost = GridSearchCV(pipe_XGBoost, param_grid=param_grid, \n",
    "                              cv=5, n_jobs=-1, verbose=2, scoring='accuracy')\n",
    "\n",
    "    search_XGBoost.fit(X, y_encoded);\n",
    "    svm_XGBoost_best = search_XGBoost.best_estimator_\n",
    "    print(search_XGBoost.best_params_)\n",
    "    search_XGBoost.best_score_"
   ]
  },
  {
   "cell_type": "markdown",
   "metadata": {},
   "source": [
    "## Feature Selection"
   ]
  },
  {
   "cell_type": "code",
   "execution_count": 19,
   "metadata": {},
   "outputs": [
    {
     "data": {
      "text/html": [
       "<div>\n",
       "<style scoped>\n",
       "    .dataframe tbody tr th:only-of-type {\n",
       "        vertical-align: middle;\n",
       "    }\n",
       "\n",
       "    .dataframe tbody tr th {\n",
       "        vertical-align: top;\n",
       "    }\n",
       "\n",
       "    .dataframe thead th {\n",
       "        text-align: right;\n",
       "    }\n",
       "</style>\n",
       "<table border=\"1\" class=\"dataframe\">\n",
       "  <thead>\n",
       "    <tr style=\"text-align: right;\">\n",
       "      <th></th>\n",
       "      <th>feature</th>\n",
       "      <th>score decrease</th>\n",
       "    </tr>\n",
       "  </thead>\n",
       "  <tbody>\n",
       "    <tr>\n",
       "      <th>9</th>\n",
       "      <td>total_spent_log</td>\n",
       "      <td>0.089555</td>\n",
       "    </tr>\n",
       "    <tr>\n",
       "      <th>7</th>\n",
       "      <td>Spa</td>\n",
       "      <td>0.051501</td>\n",
       "    </tr>\n",
       "    <tr>\n",
       "      <th>8</th>\n",
       "      <td>VRDeck</td>\n",
       "      <td>0.046854</td>\n",
       "    </tr>\n",
       "    <tr>\n",
       "      <th>5</th>\n",
       "      <td>FoodCourt</td>\n",
       "      <td>0.04621</td>\n",
       "    </tr>\n",
       "    <tr>\n",
       "      <th>4</th>\n",
       "      <td>RoomService</td>\n",
       "      <td>0.031531</td>\n",
       "    </tr>\n",
       "    <tr>\n",
       "      <th>10</th>\n",
       "      <td>cabin_deck</td>\n",
       "      <td>0.028322</td>\n",
       "    </tr>\n",
       "    <tr>\n",
       "      <th>6</th>\n",
       "      <td>ShoppingMall</td>\n",
       "      <td>0.021834</td>\n",
       "    </tr>\n",
       "    <tr>\n",
       "      <th>11</th>\n",
       "      <td>cabin_side</td>\n",
       "      <td>0.015208</td>\n",
       "    </tr>\n",
       "    <tr>\n",
       "      <th>2</th>\n",
       "      <td>Destination</td>\n",
       "      <td>0.009157</td>\n",
       "    </tr>\n",
       "    <tr>\n",
       "      <th>0</th>\n",
       "      <td>HomePlanet</td>\n",
       "      <td>0.008846</td>\n",
       "    </tr>\n",
       "    <tr>\n",
       "      <th>12</th>\n",
       "      <td>AgeCategory</td>\n",
       "      <td>0.00314</td>\n",
       "    </tr>\n",
       "    <tr>\n",
       "      <th>3</th>\n",
       "      <td>VIP</td>\n",
       "      <td>0.000092</td>\n",
       "    </tr>\n",
       "    <tr>\n",
       "      <th>1</th>\n",
       "      <td>CryoSleep</td>\n",
       "      <td>0.0</td>\n",
       "    </tr>\n",
       "  </tbody>\n",
       "</table>\n",
       "</div>"
      ],
      "text/plain": [
       "            feature score decrease\n",
       "9   total_spent_log       0.089555\n",
       "7               Spa       0.051501\n",
       "8            VRDeck       0.046854\n",
       "5         FoodCourt        0.04621\n",
       "4       RoomService       0.031531\n",
       "10       cabin_deck       0.028322\n",
       "6      ShoppingMall       0.021834\n",
       "11       cabin_side       0.015208\n",
       "2       Destination       0.009157\n",
       "0        HomePlanet       0.008846\n",
       "12      AgeCategory        0.00314\n",
       "3               VIP       0.000092\n",
       "1         CryoSleep            0.0"
      ]
     },
     "execution_count": 19,
     "metadata": {},
     "output_type": "execute_result"
    }
   ],
   "source": [
    "from sklearn.inspection import permutation_importance\n",
    "\n",
    "model = pipe_XGBoost.fit(X, y_encoded)\n",
    "\n",
    "permutation_score = permutation_importance(model, X, y_encoded, n_repeats=10)\n",
    "\n",
    "importance_df = pd.DataFrame(np.vstack((X.columns,\n",
    "                                        permutation_score.importances_mean)).T)\n",
    "importance_df.columns=['feature','score decrease']\n",
    "\n",
    "importance_df.sort_values(by=\"score decrease\", ascending = False)"
   ]
  },
  {
   "cell_type": "code",
   "execution_count": 27,
   "metadata": {},
   "outputs": [],
   "source": [
    "X = X.drop(columns=[''])"
   ]
  },
  {
   "attachments": {},
   "cell_type": "markdown",
   "metadata": {},
   "source": [
    "## Final Result"
   ]
  },
  {
   "cell_type": "code",
   "execution_count": 29,
   "metadata": {},
   "outputs": [],
   "source": [
    "X_test = pd.read_csv('Data/test.csv')\n",
    "X_test_ids = X_test['PassengerId']\n",
    "\n",
    "X_test[['RoomService', 'FoodCourt','ShoppingMall','Spa','VRDeck']]=\\\n",
    "X_test[['RoomService', 'FoodCourt','ShoppingMall','Spa','VRDeck']].fillna(0.0);\n",
    "X_test['total_spend'] = X_test['RoomService'] + X_test['FoodCourt'] + X_test['ShoppingMall'] + \\\n",
    "X_test['Spa'] + X_test['VRDeck'];\n",
    "X_test['total_spent_log'] = np.log1p(X_test['total_spend'])\n",
    "\n",
    "X_test['CryoSleep'] = np.float16(X_test['CryoSleep']*1.0);\n",
    "X_test.loc[(X_test.CryoSleep.isna()==True) & (X_test['total_spend'] == 0.0), ['CryoSleep']] = 1.0;\n",
    "X_test.loc[(X_test.CryoSleep.isna()==True) & (X_test['total_spend'] > 0.0), ['CryoSleep']] = 0.0;\n",
    "\n",
    "X_test[['cabin_deck', 'cabin_num', 'cabin_side']] = X_test.Cabin.str.split(\"/\", expand = True)\n",
    "\n",
    "X_test['Age'] = X_test['Age'].fillna(X_test.Age.median())\n",
    "X_test['AgeCategory'] = pd.cut(x = X_test['Age'],\n",
    "                             bins= [X_test['Age'].min()-1,\n",
    "                                    5,\n",
    "                                    18,\n",
    "                                    65,\n",
    "                                    X_test['Age'].max()+1],\n",
    "                             labels=['Baby','Children','Adult','Senior'])\n",
    "\n",
    "X_test = X_test.drop(columns=['PassengerId', 'Name', 'Cabin', 'cabin_num', 'total_spend', 'Age'])\n",
    "\n",
    "pipe_XGBoost.fit(X,y_encoded)\n",
    "y_pred_encoded = pipe_XGBoost.predict(X_test)\n",
    "y_pred = label_encoder.inverse_transform(y_pred_encoded)"
   ]
  },
  {
   "cell_type": "code",
   "execution_count": 30,
   "metadata": {},
   "outputs": [
    {
     "data": {
      "text/html": [
       "<div>\n",
       "<style scoped>\n",
       "    .dataframe tbody tr th:only-of-type {\n",
       "        vertical-align: middle;\n",
       "    }\n",
       "\n",
       "    .dataframe tbody tr th {\n",
       "        vertical-align: top;\n",
       "    }\n",
       "\n",
       "    .dataframe thead th {\n",
       "        text-align: right;\n",
       "    }\n",
       "</style>\n",
       "<table border=\"1\" class=\"dataframe\">\n",
       "  <thead>\n",
       "    <tr style=\"text-align: right;\">\n",
       "      <th></th>\n",
       "      <th>PassengerId</th>\n",
       "      <th>Transported</th>\n",
       "    </tr>\n",
       "  </thead>\n",
       "  <tbody>\n",
       "    <tr>\n",
       "      <th>0</th>\n",
       "      <td>0013_01</td>\n",
       "      <td>True</td>\n",
       "    </tr>\n",
       "    <tr>\n",
       "      <th>1</th>\n",
       "      <td>0018_01</td>\n",
       "      <td>False</td>\n",
       "    </tr>\n",
       "    <tr>\n",
       "      <th>2</th>\n",
       "      <td>0019_01</td>\n",
       "      <td>True</td>\n",
       "    </tr>\n",
       "    <tr>\n",
       "      <th>3</th>\n",
       "      <td>0021_01</td>\n",
       "      <td>True</td>\n",
       "    </tr>\n",
       "    <tr>\n",
       "      <th>4</th>\n",
       "      <td>0023_01</td>\n",
       "      <td>True</td>\n",
       "    </tr>\n",
       "    <tr>\n",
       "      <th>...</th>\n",
       "      <td>...</td>\n",
       "      <td>...</td>\n",
       "    </tr>\n",
       "    <tr>\n",
       "      <th>4272</th>\n",
       "      <td>9266_02</td>\n",
       "      <td>True</td>\n",
       "    </tr>\n",
       "    <tr>\n",
       "      <th>4273</th>\n",
       "      <td>9269_01</td>\n",
       "      <td>False</td>\n",
       "    </tr>\n",
       "    <tr>\n",
       "      <th>4274</th>\n",
       "      <td>9271_01</td>\n",
       "      <td>True</td>\n",
       "    </tr>\n",
       "    <tr>\n",
       "      <th>4275</th>\n",
       "      <td>9273_01</td>\n",
       "      <td>True</td>\n",
       "    </tr>\n",
       "    <tr>\n",
       "      <th>4276</th>\n",
       "      <td>9277_01</td>\n",
       "      <td>True</td>\n",
       "    </tr>\n",
       "  </tbody>\n",
       "</table>\n",
       "<p>4277 rows × 2 columns</p>\n",
       "</div>"
      ],
      "text/plain": [
       "     PassengerId  Transported\n",
       "0        0013_01         True\n",
       "1        0018_01        False\n",
       "2        0019_01         True\n",
       "3        0021_01         True\n",
       "4        0023_01         True\n",
       "...          ...          ...\n",
       "4272     9266_02         True\n",
       "4273     9269_01        False\n",
       "4274     9271_01         True\n",
       "4275     9273_01         True\n",
       "4276     9277_01         True\n",
       "\n",
       "[4277 rows x 2 columns]"
      ]
     },
     "execution_count": 30,
     "metadata": {},
     "output_type": "execute_result"
    }
   ],
   "source": [
    "results = pd.concat([X_test_ids, pd.Series(y_pred, name=\"Transported\")], axis=1)\n",
    "results"
   ]
  },
  {
   "cell_type": "code",
   "execution_count": 31,
   "metadata": {},
   "outputs": [],
   "source": [
    "results.to_csv(\"Data/submission_final.csv\", header=True, index=False)"
   ]
  }
 ],
 "metadata": {
  "kernelspec": {
   "display_name": "Python 3.8.12 64-bit ('lewagon')",
   "language": "python",
   "name": "python3"
  },
  "language_info": {
   "codemirror_mode": {
    "name": "ipython",
    "version": 3
   },
   "file_extension": ".py",
   "mimetype": "text/x-python",
   "name": "python",
   "nbconvert_exporter": "python",
   "pygments_lexer": "ipython3",
   "version": "3.8.12"
  },
  "orig_nbformat": 4,
  "vscode": {
   "interpreter": {
    "hash": "bfe724de338cc394b3ff86c930bac7ee7a5cf9b55f5ca5aa3cc86a5cb0272498"
   }
  }
 },
 "nbformat": 4,
 "nbformat_minor": 2
}
